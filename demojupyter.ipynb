{
 "cells": [
  {
   "cell_type": "code",
   "execution_count": null,
   "metadata": {},
   "outputs": [
    {
     "name": "stdout",
     "output_type": "stream",
     "text": [
      "Hello Jupyter\n"
     ]
    }
   ],
   "source": [
    "print(\"Hello Jupyter\")"
   ]
  },
  {
   "cell_type": "code",
   "execution_count": 8,
   "metadata": {},
   "outputs": [
    {
     "name": "stdout",
     "output_type": "stream",
     "text": [
      "50\n"
     ]
    }
   ],
   "source": [
    "x = 10\n",
    "y = 5\n",
    "z = x * y\n",
    "\n",
    "print(z)"
   ]
  },
  {
   "cell_type": "code",
   "execution_count": 9,
   "metadata": {},
   "outputs": [
    {
     "name": "stdout",
     "output_type": "stream",
     "text": [
      "5\n"
     ]
    }
   ],
   "source": [
    "print(y)"
   ]
  },
  {
   "cell_type": "code",
   "execution_count": 38,
   "metadata": {},
   "outputs": [
    {
     "name": "stdout",
     "output_type": "stream",
     "text": [
      ">>> Today's lottery numbers are: \n",
      "[24601, 26783, 28486, 41450, 50729, 51684, 69627, 88561, 106723, 107063, 115364, 119849, 140671, 163484, 166743, 173502, 188571, 202670, 232863, 238318, 242948, 244817, 261273, 261609, 271060, 282268, 282984, 292004, 297606, 302349, 323676, 324162, 325099, 329138, 338062, 342698, 347587, 358669, 380558, 411768, 412896, 422983, 426288, 430568, 433990, 437147, 453024, 465485, 484246, 486601, 502221, 531899, 535486, 554807, 564214, 577553, 604838, 612277, 623879, 652683, 679161, 680835, 682932, 691236, 696971, 714205, 722598, 738453, 748429, 760086, 764479, 770717, 772162, 775290, 775481, 793408, 804802, 831300, 845761, 850508, 851133, 854465, 854835, 857168, 867762, 868977, 871947, 873060, 895737, 901276, 912006, 925454, 937162, 940500, 949353, 951003, 986200, 995364, 997820, 999781]\n"
     ]
    }
   ],
   "source": [
    "import random\n",
    "\n",
    "lotteryNumbers = []\n",
    "\n",
    "for i in range (0,100):\n",
    "  number = random.randint(0,999999)\n",
    "  while number in lotteryNumbers:\n",
    "    number = random.randint(0,999999)\n",
    "  \n",
    "  lotteryNumbers.append(number)\n",
    "\n",
    "lotteryNumbers.sort()\n",
    "\n",
    "print(\">>> Today's lottery numbers are: \") \n",
    "print(lotteryNumbers)"
   ]
  }
 ],
 "metadata": {
  "kernelspec": {
   "display_name": "env",
   "language": "python",
   "name": "python3"
  },
  "language_info": {
   "codemirror_mode": {
    "name": "ipython",
    "version": 3
   },
   "file_extension": ".py",
   "mimetype": "text/x-python",
   "name": "python",
   "nbconvert_exporter": "python",
   "pygments_lexer": "ipython3",
   "version": "3.10.1"
  },
  "orig_nbformat": 4,
  "vscode": {
   "interpreter": {
    "hash": "833233436f0508e08c7cd0608dc9094747e5e67f81fcb78bc1f8365fb95025dd"
   }
  }
 },
 "nbformat": 4,
 "nbformat_minor": 2
}
