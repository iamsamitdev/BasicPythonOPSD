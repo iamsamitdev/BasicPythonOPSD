{
 "cells": [
  {
   "cell_type": "code",
   "execution_count": 47,
   "metadata": {},
   "outputs": [],
   "source": [
    "# Step 1: Import Library\n",
    "import sqlite3\n",
    "import tkinter as tk\n",
    "from tkinter import  ttk"
   ]
  },
  {
   "cell_type": "code",
   "execution_count": 48,
   "metadata": {},
   "outputs": [],
   "source": [
    "# Step 2: Connect DB\n",
    "conn = sqlite3.connect(\"sampledb.sqlite\") \n",
    "cursor = conn.cursor()"
   ]
  },
  {
   "cell_type": "code",
   "execution_count": 49,
   "metadata": {},
   "outputs": [
    {
     "data": {
      "text/plain": [
       "''"
      ]
     },
     "execution_count": 49,
     "metadata": {},
     "output_type": "execute_result"
    }
   ],
   "source": [
    "# Step 3: Create the GUI form\n",
    "form = tk.Tk()\n",
    "form.title('Display Data')"
   ]
  },
  {
   "cell_type": "code",
   "execution_count": 50,
   "metadata": {},
   "outputs": [],
   "source": [
    "# Step 4: Create the table\n",
    "table = tk.ttk.Treeview(form, columns=('name','points', 'accuracy'))\n",
    "table.heading('#0', text='Name')\n",
    "table.heading('#1', text='Points')\n",
    "table.heading('#2', text='accuracy')\n",
    "table.column('#0', width=50)\n",
    "table.column('#1', width=100)\n",
    "table.column('#2', width=50)\n",
    "table.pack()"
   ]
  },
  {
   "cell_type": "code",
   "execution_count": 51,
   "metadata": {},
   "outputs": [],
   "source": [
    "# Step 5: Query the database and display the data in the table\n",
    "cursor.execute(\"SELECT * FROM sensor\")\n",
    "for row in cursor:\n",
    "  table.insert('', 'end', text=row[0], values=(row[1], row[2]))"
   ]
  },
  {
   "cell_type": "code",
   "execution_count": 52,
   "metadata": {},
   "outputs": [],
   "source": [
    "# Step 6: Run the form\n",
    "form.mainloop()"
   ]
  }
 ],
 "metadata": {
  "kernelspec": {
   "display_name": "env",
   "language": "python",
   "name": "python3"
  },
  "language_info": {
   "codemirror_mode": {
    "name": "ipython",
    "version": 3
   },
   "file_extension": ".py",
   "mimetype": "text/x-python",
   "name": "python",
   "nbconvert_exporter": "python",
   "pygments_lexer": "ipython3",
   "version": "3.10.1"
  },
  "orig_nbformat": 4,
  "vscode": {
   "interpreter": {
    "hash": "833233436f0508e08c7cd0608dc9094747e5e67f81fcb78bc1f8365fb95025dd"
   }
  }
 },
 "nbformat": 4,
 "nbformat_minor": 2
}
