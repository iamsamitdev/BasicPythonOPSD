{
 "cells": [
  {
   "cell_type": "code",
   "execution_count": 1,
   "metadata": {},
   "outputs": [],
   "source": [
    "import sqlite3\n",
    "conn = sqlite3.connect(\"sampledb.sqlite\")"
   ]
  },
  {
   "cell_type": "code",
   "execution_count": 5,
   "metadata": {},
   "outputs": [],
   "source": [
    "# เขียน SQL เพื่อทำการ Add ข้อมูลเข้าตาราง sensor\n",
    "conn.execute(\n",
    "    \"\"\"\n",
    "    INSERT INTO sensor VALUES(\n",
    "        'Reserve str',35, 5\n",
    "    )\n",
    "    \"\"\"\n",
    ")\n",
    "\n",
    "conn.commit()"
   ]
  }
 ],
 "metadata": {
  "kernelspec": {
   "display_name": "env",
   "language": "python",
   "name": "python3"
  },
  "language_info": {
   "codemirror_mode": {
    "name": "ipython",
    "version": 3
   },
   "file_extension": ".py",
   "mimetype": "text/x-python",
   "name": "python",
   "nbconvert_exporter": "python",
   "pygments_lexer": "ipython3",
   "version": "3.10.1"
  },
  "orig_nbformat": 4,
  "vscode": {
   "interpreter": {
    "hash": "833233436f0508e08c7cd0608dc9094747e5e67f81fcb78bc1f8365fb95025dd"
   }
  }
 },
 "nbformat": 4,
 "nbformat_minor": 2
}
