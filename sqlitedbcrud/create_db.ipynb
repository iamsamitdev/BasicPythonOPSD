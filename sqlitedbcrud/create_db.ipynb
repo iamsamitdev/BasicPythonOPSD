{
 "cells": [
  {
   "attachments": {},
   "cell_type": "markdown",
   "metadata": {},
   "source": [
    "##### Step 1: Import sqlite3 package"
   ]
  },
  {
   "cell_type": "code",
   "execution_count": 1,
   "metadata": {},
   "outputs": [],
   "source": [
    "import sqlite3"
   ]
  },
  {
   "attachments": {},
   "cell_type": "markdown",
   "metadata": {},
   "source": [
    "##### Step 2: Create sqlite3 Database"
   ]
  },
  {
   "cell_type": "code",
   "execution_count": 4,
   "metadata": {},
   "outputs": [],
   "source": [
    "conn = sqlite3.connect(\"sampledb.sqlite\")"
   ]
  },
  {
   "attachments": {},
   "cell_type": "markdown",
   "metadata": {},
   "source": [
    "##### Step 3: Create table name sensor"
   ]
  },
  {
   "cell_type": "code",
   "execution_count": 6,
   "metadata": {},
   "outputs": [
    {
     "ename": "OperationalError",
     "evalue": "table sensor already exists",
     "output_type": "error",
     "traceback": [
      "\u001b[1;31m---------------------------------------------------------------------------\u001b[0m",
      "\u001b[1;31mOperationalError\u001b[0m                          Traceback (most recent call last)",
      "Cell \u001b[1;32mIn[6], line 1\u001b[0m\n\u001b[1;32m----> 1\u001b[0m conn\u001b[39m.\u001b[39;49mexecute(\n\u001b[0;32m      2\u001b[0m     \u001b[39m\"\"\"\u001b[39;49;00m\n\u001b[0;32m      3\u001b[0m \u001b[39m    CREATE TABLE sensor(\u001b[39;49;00m\n\u001b[0;32m      4\u001b[0m \u001b[39m        name TEXT,\u001b[39;49;00m\n\u001b[0;32m      5\u001b[0m \u001b[39m        points INTEGER,\u001b[39;49;00m\n\u001b[0;32m      6\u001b[0m \u001b[39m        accuracy REAL\u001b[39;49;00m\n\u001b[0;32m      7\u001b[0m \u001b[39m    )\u001b[39;49;00m\n\u001b[0;32m      8\u001b[0m \u001b[39m    \"\"\"\u001b[39;49;00m\n\u001b[0;32m      9\u001b[0m )\n",
      "\u001b[1;31mOperationalError\u001b[0m: table sensor already exists"
     ]
    }
   ],
   "source": [
    "conn.execute(\n",
    "    \"\"\"\n",
    "    CREATE TABLE sensor(\n",
    "        name TEXT,\n",
    "        points INTEGER,\n",
    "        accuracy REAL\n",
    "    )\n",
    "    \"\"\"\n",
    ")\n",
    "\n",
    "conn.commit()"
   ]
  }
 ],
 "metadata": {
  "kernelspec": {
   "display_name": "env",
   "language": "python",
   "name": "python3"
  },
  "language_info": {
   "codemirror_mode": {
    "name": "ipython",
    "version": 3
   },
   "file_extension": ".py",
   "mimetype": "text/x-python",
   "name": "python",
   "nbconvert_exporter": "python",
   "pygments_lexer": "ipython3",
   "version": "3.10.1 (tags/v3.10.1:2cd268a, Dec  6 2021, 19:10:37) [MSC v.1929 64 bit (AMD64)]"
  },
  "orig_nbformat": 4,
  "vscode": {
   "interpreter": {
    "hash": "833233436f0508e08c7cd0608dc9094747e5e67f81fcb78bc1f8365fb95025dd"
   }
  }
 },
 "nbformat": 4,
 "nbformat_minor": 2
}
